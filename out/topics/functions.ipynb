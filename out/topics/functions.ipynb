{
 "cells": [
  {
   "cell_type": "markdown",
   "metadata": {},
   "source": [
    "[![Open In Colab](https://colab.research.google.com/assets/colab-badge.svg)](https://colab.research.google.com/github/mottaquikarim/pycontent/blob/master/.out/topics/functions.ipynb)"
   ]
  },
  {
   "cell_type": "markdown",
   "metadata": {},
   "source": [
    "# Functions UPDATE\n",
    "\n",
    "In Python, `functions` are your best friends! Let's say you need to perform some action or calculation multiple times for multiple values. For example, you might want to convert temperatures in Celsius to Fahrenheit like you did in the last chapter's exercises. It would be inefficient and messy to copy that code every time you need it. Instead, you can define a `function` to contain that code. Every time you call that function, it runs the whole block of code inside and saves you lots of time. Sweet!\n",
    "\n",
    "## Anatomy of a Function\n",
    "\n",
    "For now, let's start with the basics. Here's the skeleton of a function and a breakdown of each part.\n"
   ]
  },
  {
   "cell_type": "code",
   "execution_count": null,
   "metadata": {},
   "outputs": [],
   "source": [
    "def function_name(parameters):\n",
    "    \"\"\"docstring\"\"\"\n",
    "    # statement(s)"
   ]
  },
  {
   "cell_type": "markdown",
   "metadata": {},
   "source": [
    "\n",
    "**Naming & Input**\n",
    "* `def` shows you are \"defining\" a new function\n",
    "* A unique function_name (same naming rules as  variables)\n",
    "* *Optional* variables, or `parameters`, that represent what input the function needs in order to run correctly\n",
    "* `:` ends the function header\n",
    "\n",
    "**Function Body**\n",
    "* An *optional* `docstring`, i.e. a comment that documents the purpose and workings of the function\n",
    "* At least one statement make up the `function body`; this code achieves the purpose for calling the function.\n",
    "\n",
    "**Output**\n",
    "* An *optional* `return statement`, which exits the function and passes out some `return value(s)` from the function's body code.\n",
    "\n",
    "### A Simple First Function\n",
    "\n",
    "Let's say we want to create a function to get the square of a number. At the most basic level, there are three parts:\n",
    "1. Input the number we want to square\n",
    "2. Calculate the square of that number\n",
    "3. Output the square of that number\n",
    "\n",
    "Let's implement this in a function called `NumSquared()`.\n"
   ]
  },
  {
   "cell_type": "code",
   "execution_count": null,
   "metadata": {},
   "outputs": [],
   "source": [
    "def num_squared(num):\n",
    "    \"\"\"Find the square of some number passed in\"\"\"\n",
    "    square = num*num # code to find the square\n",
    "    return square"
   ]
  },
  {
   "cell_type": "markdown",
   "metadata": {},
   "source": [
    "\n",
    "1. Input the number we want to square \n",
    "\n",
    "We create an *parameter* called `num` to represent the number we will past into our function as an argument. (p.s. Parameters are the names used when defining a function.) Remember that arguments should always be passed in the correct format and positional order, or the function will not be able to recognize them.\n",
    "\n",
    "2. Calculate the square of that number\n",
    "\n",
    "Using the value of `num`, we write the formula for calculating a square and assign it to the variable `square`.\n",
    "\n",
    "3. Output the square of that number\n",
    "\n",
    "We return `square` to pass out the numeric value we calculated. \n",
    "\n",
    "Once we've written this logic, we can call `NumSquared()` every time we want to use it. Let's say we want to find the value of 12 squared...\n"
   ]
  },
  {
   "cell_type": "code",
   "execution_count": null,
   "metadata": {},
   "outputs": [],
   "source": [
    "sq12 = num_squared(12)\n",
    "print(sq12) # 144"
   ]
  },
  {
   "cell_type": "markdown",
   "metadata": {},
   "source": [
    "\n",
    "**NOTE!** Make sure you store the function call within a var so that the return value gets stored in the var. If you don't, how will you access the output you wanted??\n",
    "\n",
    "## Variable Scope\n",
    "\n",
    "* `global variable`: \n",
    "  * A variable declared outside a function\n",
    "  * Any function in your script can access this\n",
    "* `local variable`: \n",
    "  * A variable declared within a function's code block\n",
    "  * You can only access this variable within the function where it is declard, otherwise you will get a `NameError` telling you that variable is not defined.\n",
    "\n"
   ]
  },
  {
   "cell_type": "code",
   "execution_count": null,
   "metadata": {},
   "outputs": [],
   "source": [
    "x = 'I\\'m a global variable.'\n",
    "\n",
    "def foo():\n",
    "    x = 'I\\'m a local variable.'\n",
    "    print(x) # I'm a local variable.\n",
    "    return x\n",
    "\n",
    "y = foo()\n",
    "\n",
    "print(x) # I'm a global variable.\n",
    "print(y) # I'm a local variable."
   ]
  },
  {
   "cell_type": "markdown",
   "metadata": {},
   "source": [
    "\n",
    "Notice that even though the function `foo()` above says `return x`, it **only returns the value of the local variable `x`**. We assign this *value* to the variable `y` when we call foo().\n",
    "\n",
    "## Function Outputs\n",
    "\n",
    "Let's expand on output a bit...\n",
    "\n",
    "The return statement exits the function so the program can move on to the next block of code you've written. If you don't need to specify a value to return, the function will default to `return None` in order to exit the function.\n",
    "\n"
   ]
  },
  {
   "cell_type": "code",
   "execution_count": null,
   "metadata": {},
   "outputs": [],
   "source": [
    "def say_hello():\n",
    "    print('hello!')"
   ]
  },
  {
   "cell_type": "markdown",
   "metadata": {},
   "source": [
    "\n",
    "Also, the `return` statement can return multiple values *by using tuples*. Once you return the tuple from the function, you can *unpack* its values by simultaneously assigning each one to a new var as follows...\n"
   ]
  },
  {
   "cell_type": "code",
   "execution_count": null,
   "metadata": {},
   "outputs": [],
   "source": [
    "    # some function...\n",
    "    return 3,'a',True\n",
    "\n",
    "x, y, z = (3,'a',True)\n",
    "print(x, type(x)) # 3 <class 'int'>\n",
    "print(y, type(y)) # a  <class 'str'>\n",
    "print(z, type(z)) # True <class 'bool'>"
   ]
  },
  {
   "cell_type": "markdown",
   "metadata": {},
   "source": [
    "\n",
    "## Types of Function Input\n",
    "\n",
    "The term `parameter` and the term `argument` are often used synonomously to refer to function input values. However, there *IS* a distinction between the two terms:\n",
    "\n",
    "* **`Parameters`** are values you declare when defining a function. \n",
    "* **`Arguments`** refer to the values passed into the function upon calling it\n",
    "\n",
    "**Required vs. Optional Parameters**\n",
    "\n",
    "You have a fair amount of flexibility when it comes to defining function parameters. This is because there are so many different use cases for the amount and type of input needed. The differences between function inputs are signified in the syntax of the function definition. We'll go through examples for the main use cases now...\n",
    "\n",
    "### Required Parameters\n",
    "\n",
    "Below is how you'd define parameters for two *required* inputs with *no default values*. The variables \n",
    " For example...\n"
   ]
  },
  {
   "cell_type": "code",
   "execution_count": null,
   "metadata": {},
   "outputs": [],
   "source": [
    "def plus(a, b):\n",
    "  return a + b\n",
    "\n",
    "c = plus(8, 12)\n",
    "print(c) # 20"
   ]
  },
  {
   "cell_type": "markdown",
   "metadata": {},
   "source": [
    "\n",
    "Whenever you call this function, you must pass values for each required argument *in the same positional order in which they were defined*.\n",
    "\n",
    "### \"Optional\" Parameters\n",
    "\n",
    "If you want, you can give your parameter a **default argument**. Doing so means that you don't have to explicitly pass an value for that argument when you call the function. In that case, the function assumes that you've implicitly passed the pre-defined default value to that argument. \n",
    "\n",
    "**NOTE!** Technically speaking, these parameters are still required. If you don't pass them arguments when you call the function, Python still does it for you. Hence, we say they're \"optional\" because it's optional for us to pass them arguments.\n",
    "\n",
    "\n",
    "Let's take a look at another version of our `plus()` function with default arguments for `b` and `c`:\n"
   ]
  },
  {
   "cell_type": "code",
   "execution_count": null,
   "metadata": {},
   "outputs": [],
   "source": [
    "def plus(a, b = 12, c = -1):\n",
    "    return a + b\n",
    "\n",
    "# Explicitly passing values for b & c\n",
    "sum1 = plus(8, b = 4, c = 3)\n",
    "print(sum1) # 15\n",
    "\n",
    "# Implicitly passing default values for b & c\n",
    "sum2 = plus(8)\n",
    "print(sum2) # 20"
   ]
  },
  {
   "cell_type": "markdown",
   "metadata": {},
   "source": [
    "\n",
    "Here's where things get a little sticky between how terms are colloquially used and how they actually work in Python...\n",
    "\n",
    "1. In practice, `b` and `c` are called **keyword arguments** because you often reference their keyword when you do want to pass them some explicit value.\n"
   ]
  },
  {
   "cell_type": "code",
   "execution_count": null,
   "metadata": {},
   "outputs": [],
   "source": [
    "def plus(a, b = 12, c = -1):\n",
    "    return a + b\n",
    "\n",
    "# Explicitly passing values for b & c\n",
    "sum3 = plus(8, b = -2, c = 6)\n",
    "print(sum3) # 12\n",
    "\n",
    "# Implicitly passing default values for b & c\n",
    "sum4 = plus(8)\n",
    "print(sum4) # 20"
   ]
  },
  {
   "cell_type": "markdown",
   "metadata": {},
   "source": [
    "\n",
    "That said, you CAN certainly reference the keyword for required arguments as well. It even makes sense to do so when you're using complex built-in functions. For example, some pandas functions have several required parameters AND more than a few optional ones.\n"
   ]
  },
  {
   "cell_type": "code",
   "execution_count": null,
   "metadata": {},
   "outputs": [],
   "source": [
    "def plus(a, b = 12, c = -1):\n",
    "    return a + b\n",
    "\n",
    "# ...vs. passing values for `a` and implicitly `b`\n",
    "y = plus(a = 4, c = -1)\n",
    "print(y) # 15\n",
    "\n",
    "# ...vs. passing values for `a` and explicitly `c`\n",
    "z = plus(8, c=12)\n",
    "print(z)"
   ]
  },
  {
   "cell_type": "markdown",
   "metadata": {},
   "source": [
    "\n",
    "**IMPORTANT!**\n",
    "\n",
    "Unlike required arguments, keyword arguments can be passed to the function *in any order*. As a best practice for when you define your functions and when you use functions, you should place the required arguments first, then the optional ones. Here's another example:\n"
   ]
  },
  {
   "cell_type": "code",
   "execution_count": null,
   "metadata": {},
   "outputs": [],
   "source": [
    "def full_name(first, last, middle = None, prefix=None, suffix = None):\n",
    "    parts = [prefix, first, middle, last, suffix]\n",
    "    name = ''\n",
    "    for i in parts:\n",
    "        if i is not None and len(name) != 0:\n",
    "            name += f' {i}'\n",
    "        elif i is not None:\n",
    "            name += f'{i}'\n",
    "    return name\n",
    "\n",
    "name1 = full_name('Taq', 'Karim')\n",
    "name2 = full_name('Julianna', 'Garreffa', prefix = 'Ms.')\n",
    "name3 = full_name('Rupert', 'Buckworth', suffix = 'III', middle = 'Malcolm', prefix = 'Mr.')\n",
    "\n",
    "print(name1)\n",
    "print(name2)\n",
    "print(name3)"
   ]
  },
  {
   "cell_type": "markdown",
   "metadata": {},
   "source": [
    "\n",
    "### Variable number of Arguments\n",
    "\n",
    "Even if you're not sure how many arguments you will need to pass to your function, you can still define it. To do this, you use the parameter `*args` as a stand-in. This signals to the function that it should expect any variety of arguments. Let's take a look at a few different ways to implement this.\n",
    "\n",
    "**Using integers** (as we did in the earlier examples)\n"
   ]
  },
  {
   "cell_type": "code",
   "execution_count": null,
   "metadata": {},
   "outputs": [],
   "source": [
    "def plus(*args):\n",
    "  return sum(args)\n",
    "\n",
    "c = plus(8,12,17)\n",
    "print(c) # 37"
   ]
  },
  {
   "cell_type": "markdown",
   "metadata": {},
   "source": [
    "\n",
    "**Using different data types**\n"
   ]
  },
  {
   "cell_type": "code",
   "execution_count": null,
   "metadata": {},
   "outputs": [],
   "source": [
    "def length(*args):\n",
    "  list1 = [*args]\n",
    "  return len(list1)\n",
    "\n",
    "c = length(8,'a',True)\n",
    "print(c) # 3"
   ]
  },
  {
   "cell_type": "markdown",
   "metadata": {},
   "source": [
    "\n",
    "**Using a variable**\n"
   ]
  },
  {
   "cell_type": "code",
   "execution_count": null,
   "metadata": {},
   "outputs": [],
   "source": [
    "var1 = 'h' + 'i'\n",
    "def print_all(*args):\n",
    "  list1 = [*args]\n",
    "  return list1\n",
    "\n",
    "c = print_all(8,'a',True,var1)\n",
    "print(c) # [8, 'a', True, 'hi']"
   ]
  },
  {
   "cell_type": "markdown",
   "metadata": {},
   "source": [
    "\n",
    "**NOTE!** If you use `*args`, your function will be more flexible, *but only if you write it that way*. If you expect different types of arguments, you will have to write the function such that it can handle every use case you expect could occur.\n",
    "\n",
    "If interested, you can learn more about the intricacies of `*args` and its cousin `*kwargs` [here](https://realpython.com/courses/python-kwargs-and-args/).\n",
    "\n",
    "### 🏋️‍♀️ **EXERCISES** 🏋️‍♀️ \n",
    "\n",
    "Try out all the function PSETs in your copy of `function_psets.ipynb` in Google Drive.\n",
    "\n",
    "### Key Takeaways\n",
    "\n",
    "* This is the most generic anatomy of a function:\n"
   ]
  },
  {
   "cell_type": "code",
   "execution_count": null,
   "metadata": {},
   "outputs": [],
   "source": [
    "def function_name(required_parameters, keyword_args = 'default_argument'):\n",
    "    \"\"\"docstring\"\"\"\n",
    "\n",
    "    # statement(s) with local variables\n",
    "\n",
    "    return None"
   ]
  },
  {
   "cell_type": "markdown",
   "metadata": {},
   "source": [
    "\n",
    "* Local variables are those defined within a function and which can only be accessed inside that function.\n",
    "* Global variables are defined outside functions and can be accessed anywhere in the code.\n",
    "* The `return` statement:\n",
    "  * Defaults to returning `None`\n",
    "  * Can be passed multiple values, which will be output together as a tuple\n",
    "* **Required Paremeters**:\n",
    "  * Must be passed arguments in positional order\n",
    "  * Can optionally be referenced by name \n",
    "* **Keyword Arguments**:\n",
    "  * Have a default argument assigned\n",
    "  * Can be passed arguments in *any* order\n",
    "  * Should be referenced by name\n",
    "  * If no argument is explicitly passed, Python automatically passes the default argument value.\n",
    "* The `*args` parameter is used when any number of arguments can be passed to a function.\n",
    "\n",
    "\n",
    "\n",
    "   \n",
    "\n",
    "\n",
    "\n"
   ]
  }
 ],
 "metadata": {},
 "nbformat": 4,
 "nbformat_minor": 2
}
